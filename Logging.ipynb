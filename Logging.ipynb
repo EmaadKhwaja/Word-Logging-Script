{
 "cells": [
  {
   "cell_type": "code",
   "execution_count": 52,
   "metadata": {
    "ExecuteTime": {
     "end_time": "2020-05-31T06:35:07.154273Z",
     "start_time": "2020-05-31T06:35:07.102517Z"
    }
   },
   "outputs": [],
   "source": [
    "import pandas as pd\n",
    "import io\n",
    "import csv\n",
    "import docx\n",
    "import datetime as datetime\n",
    "import numpy as np\n",
    "from git import Repo\n",
    "\n",
    "\n",
    "def read_docx_tables(doc, tab_id=None, **kwargs):\n",
    "\n",
    "    def read_docx_tab(tab, **kwargs):\n",
    "        vf = io.StringIO()\n",
    "        writer = csv.writer(vf)\n",
    "        for row in tab.rows:\n",
    "            writer.writerow(cell.text for cell in row.cells)\n",
    "        vf.seek(0)\n",
    "        if len(tab.rows) > 0:\n",
    "            return pd.read_csv(vf, **kwargs)\n",
    "        else:\n",
    "            return pd.DataFrame()\n",
    "\n",
    "    if tab_id is None:\n",
    "        return [read_docx_tab(tab, **kwargs) for tab in doc.tables]\n",
    "    else:\n",
    "        return read_docx_tab(doc.tables[tab_id], **kwargs)\n",
    "\n",
    "\n",
    "def remove_row(table, row):\n",
    "    tbl = table._tbl\n",
    "    tr = row._tr\n",
    "    tbl.remove(tr)\n",
    "\n",
    "\n",
    "def log_table(doc, table_name, comments=[]):\n",
    "\n",
    "    if len(comments) == 0:\n",
    "        table = doc.add_table(0, 0)\n",
    "\n",
    "    else:\n",
    "\n",
    "        table = doc.add_table(1, 2)\n",
    "        table.style = 'ColorfulList-Accent2'\n",
    "\n",
    "        if table_name == \"goals\":\n",
    "            heading_cells = table.rows[0].cells\n",
    "            heading_cells[0].text = \"Goals\"\n",
    "            heading_cells[1].text = \"Summary\"\n",
    "\n",
    "        if table_name == \"accomplished\":\n",
    "            heading_cells = table.rows[0].cells\n",
    "            heading_cells[0].text = \"Accomplished\"\n",
    "            heading_cells[1].text = \"Notes\"\n",
    "\n",
    "        if table_name == \"pushes\":\n",
    "            heading_cells = table.rows[0].cells\n",
    "            heading_cells[0].text = \"Commit\"\n",
    "            heading_cells[1].text = \"Comment\"\n",
    "\n",
    "        if table_name == \"to_do\":\n",
    "            heading_cells = table.rows[0].cells\n",
    "            heading_cells[0].text = \"To Do\"\n",
    "            heading_cells[1].text = \"Notes\"\n",
    "\n",
    "        for row in comments:\n",
    "            cells = table.add_row().cells\n",
    "            cells[0].text = row[0]\n",
    "            cells[1].text = row[1]\n",
    "\n",
    "        doc.add_paragraph()\n",
    "\n",
    "\n",
    "def new_entry(doc, notes):\n",
    "    heading = doc.add_paragraph(date)\n",
    "    \n",
    "    notes['goals'] = goals\n",
    "    notes['accomplished'] = accomplished\n",
    "    notes['pushes'] = pushes\n",
    "    notes['to_do'] = to_do\n",
    "\n",
    "    log_table(doc, \"goals\", goals)\n",
    "\n",
    "    log_table(doc, \"accomplished\", accomplished)\n",
    "\n",
    "    log_table(doc, \"pushes\", pushes)\n",
    "\n",
    "    log_table(doc, \"to_do\", to_do)\n",
    "\n",
    "\n",
    "def table_merge(doc, table, comments, name, index):\n",
    "    if len(table) == 0 and len(comments) > 0:\n",
    "        log_table(doc, name, comments)\n",
    "\n",
    "    elif len(table) == 0 and len(comments) == 0:\n",
    "        return\n",
    "\n",
    "    else:\n",
    "        if name == 'goals':\n",
    "            columns = [\"Goals\", \"Summary\"]\n",
    "        elif name == 'accomplished':\n",
    "            columns = [\"Accomplished\", \"Notes\"]\n",
    "        elif name == 'pushes':\n",
    "            columns = [\"Commit\", \"Comment\"]\n",
    "        elif name == 'to_do':\n",
    "            columns = [\"To Do\", \"Notes\"]\n",
    "\n",
    "        update = pd.DataFrame(comments, columns=columns)\n",
    "\n",
    "        new = pd.merge(table.replace(np.NaN, ''), update,\n",
    "                       'outer').drop_duplicates(subset=columns[0],keep='last').values\n",
    "\n",
    "        current_table = doc.tables[index]\n",
    "        current_length = len(current_table.rows) - 2\n",
    "\n",
    "        for i, row in enumerate(new):\n",
    "            current_table.row_cells(i+1)[0].text = new[i][0]\n",
    "            current_table.row_cells(i+1)[1].text = new[i][1]\n",
    "            if i > current_length:\n",
    "                cells = current_table.add_row().cells\n",
    "                cells[0].text = new[i-1][0]\n",
    "                cells[1].text = new[i-1][1]\n",
    "\n",
    "\n",
    "def update_entry(doc, notes):\n",
    "    notes['goals'] = goals\n",
    "    notes['accomplished'] = accomplished\n",
    "    notes['pushes'] = pushes\n",
    "    notes['to_do'] = to_do\n",
    "\n",
    "    for i, table in enumerate(reversed(doc.tables)):\n",
    "        ind = len(doc.tables)-1-i\n",
    "        table = read_docx_tables(doc, ind)\n",
    "        if len(table) > 0:\n",
    "            table_title = table.columns[0]\n",
    "        else:\n",
    "            table_title = \"NA\"\n",
    "        if table_title == 'Goals':\n",
    "            goal_ind = ind\n",
    "            goal_tab = table\n",
    "            table_merge(doc, goal_tab, goals, 'goals', goal_ind)\n",
    "            break\n",
    "\n",
    "    for i, table in enumerate(doc.tables[goal_ind:]):\n",
    "        i = goal_ind+i\n",
    "        table = read_docx_tables(doc, i)\n",
    "\n",
    "        if len(table) > 0:\n",
    "            table_title = table.columns[0]\n",
    "        else:\n",
    "            table_title = \"NA\"\n",
    "\n",
    "        if table_title == 'Accomplished':\n",
    "            acc_ind = i\n",
    "            acc_tab = table\n",
    "            table_merge(doc, acc_tab, accomplished, 'accomplished', acc_ind)\n",
    "\n",
    "        if table_title == 'Commit':\n",
    "            push_ind = i\n",
    "            push_tab = table\n",
    "            table_merge(doc, push_tab, pushes, 'pushes', push_ind)\n",
    "\n",
    "        if table_title == 'To Do':\n",
    "            td_ind = i\n",
    "            td_tab = table\n",
    "            table_merge(doc, td_tab, to_do, 'to_do', td_ind)\n",
    "\n",
    "\n",
    "def git_push(PATH_OF_GIT_REPO, COMMIT_MESSAGE):\n",
    "    try:\n",
    "        repo = Repo(PATH_OF_GIT_REPO)\n",
    "        repo.git.add(update=True)\n",
    "        repo.index.commit(COMMIT_MESSAGE)\n",
    "        origin = repo.remote(name='origin')\n",
    "        origin.push()\n",
    "        sha = repo.head.object.hexsha\n",
    "        remote_url = repo.remotes[0].config_reader.get(\"url\")\n",
    "        repo_url = remote_url.split(\":\", 1)[1].split(\".git\", 1)[0]\n",
    "        repo_url = \"https://github.com/\"+repo_url+\"/commit/\"+sha\n",
    "\n",
    "        return [[repo_url, COMMIT_MESSAGE]]\n",
    "\n",
    "    except:\n",
    "        print('Some error occured while pushing the code')\n",
    "\n",
    "\n",
    "def validate(date_text):\n",
    "    try:\n",
    "        datetime.datetime.strptime(date_text, '%Y-%m-%d')\n",
    "        return True\n",
    "    except ValueError:\n",
    "        return False"
   ]
  },
  {
   "cell_type": "code",
   "execution_count": 58,
   "metadata": {
    "ExecuteTime": {
     "end_time": "2020-05-31T06:35:49.475175Z",
     "start_time": "2020-05-31T06:35:49.456095Z"
    }
   },
   "outputs": [],
   "source": [
    "PATH_OF_GIT_REPO = r'/Users/emaad/Desktop/WordLoggingScript/.git'  # make sure .git folder is properly configured\n",
    "COMMIT_MESSAGE = 'comment from python script'\n",
    "\n",
    "date = datetime.datetime.now().strftime('%Y-%m-%d')\n",
    "\n",
    "goals = [\n",
    "    [\"Update Logging Script with Git and Code Output\", \"\"],\n",
    "    [\"Include timestamp and project title boxes in logging\", \"\"],\n",
    "    [\"Read Papers\", \"\"]\n",
    "]\n",
    "accomplished = [\n",
    "]\n",
    "to_do = [[\"Start segmentation\",\"\"]]\n",
    "pushes = git_push(\".\")"
   ]
  },
  {
   "cell_type": "code",
   "execution_count": 59,
   "metadata": {
    "ExecuteTime": {
     "end_time": "2020-05-31T06:35:49.899816Z",
     "start_time": "2020-05-31T06:35:49.817391Z"
    }
   },
   "outputs": [
    {
     "name": "stdout",
     "output_type": "stream",
     "text": [
      "Updated Entry\n"
     ]
    }
   ],
   "source": [
    "test = docx.Document(\"./log_test.docx\")\n",
    "notes = {'goals':goals, 'accomplished': accomplished,'pushes': pushes, 'to_do': to_do}\n",
    "for i, text in enumerate(reversed(test.paragraphs)):\n",
    "    if validate(text.text) == True:\n",
    "        last_date = text.text\n",
    "        index=len(test.paragraphs)-1-i\n",
    "        break\n",
    "if last_date != date:\n",
    "    new_entry(test, notes)\n",
    "    test.save('log_test.docx')\n",
    "    print(\"New Entry Added\")\n",
    "if last_date == date:\n",
    "    update_entry(test, notes)\n",
    "    test.save('log_test.docx')\n",
    "    print(\"Updated Entry\")"
   ]
  },
  {
   "cell_type": "code",
   "execution_count": 60,
   "metadata": {
    "ExecuteTime": {
     "end_time": "2020-05-31T06:35:50.001891Z",
     "start_time": "2020-05-31T06:35:49.989961Z"
    }
   },
   "outputs": [
    {
     "ename": "NameError",
     "evalue": "name 'new' is not defined",
     "output_type": "error",
     "traceback": [
      "\u001b[0;31m---------------------------------------------------------------------------\u001b[0m",
      "\u001b[0;31mNameError\u001b[0m                                 Traceback (most recent call last)",
      "\u001b[0;32m<ipython-input-60-389cc6b7ae5a>\u001b[0m in \u001b[0;36m<module>\u001b[0;34m\u001b[0m\n\u001b[0;32m----> 1\u001b[0;31m \u001b[0mnew\u001b[0m\u001b[0;34m\u001b[0m\u001b[0;34m\u001b[0m\u001b[0m\n\u001b[0m",
      "\u001b[0;31mNameError\u001b[0m: name 'new' is not defined"
     ]
    }
   ],
   "source": [
    "new"
   ]
  },
  {
   "cell_type": "code",
   "execution_count": null,
   "metadata": {
    "ExecuteTime": {
     "end_time": "2020-05-31T06:14:14.327541Z",
     "start_time": "2020-05-31T06:14:14.307434Z"
    }
   },
   "outputs": [],
   "source": [
    "test.tables[0].row_cells(2)[0].text\n"
   ]
  },
  {
   "cell_type": "code",
   "execution_count": 30,
   "metadata": {
    "ExecuteTime": {
     "end_time": "2020-05-31T06:27:48.260886Z",
     "start_time": "2020-05-31T06:27:48.212244Z"
    }
   },
   "outputs": [
    {
     "data": {
      "text/plain": [
       "4"
      ]
     },
     "execution_count": 30,
     "metadata": {},
     "output_type": "execute_result"
    }
   ],
   "source": [
    "len(test.tables[4].rows)"
   ]
  },
  {
   "cell_type": "code",
   "execution_count": 36,
   "metadata": {
    "ExecuteTime": {
     "end_time": "2020-05-31T06:28:14.773842Z",
     "start_time": "2020-05-31T06:28:14.763954Z"
    }
   },
   "outputs": [
    {
     "data": {
      "text/plain": [
       "'Read Papers'"
      ]
     },
     "execution_count": 36,
     "metadata": {},
     "output_type": "execute_result"
    }
   ],
   "source": [
    "test.tables[4].row_cells(3)[0].text"
   ]
  },
  {
   "cell_type": "code",
   "execution_count": null,
   "metadata": {},
   "outputs": [],
   "source": []
  }
 ],
 "metadata": {
  "kernelspec": {
   "display_name": "Python 3",
   "language": "python",
   "name": "python3"
  },
  "language_info": {
   "codemirror_mode": {
    "name": "ipython",
    "version": 3
   },
   "file_extension": ".py",
   "mimetype": "text/x-python",
   "name": "python",
   "nbconvert_exporter": "python",
   "pygments_lexer": "ipython3",
   "version": "3.7.6"
  }
 },
 "nbformat": 4,
 "nbformat_minor": 4
}
