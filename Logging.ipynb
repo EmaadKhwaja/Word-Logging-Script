{
 "cells": [
  {
   "cell_type": "code",
   "execution_count": null,
   "metadata": {
    "ExecuteTime": {
     "end_time": "2020-05-31T07:09:18.826694Z",
     "start_time": "2020-05-31T07:09:17.040829Z"
    }
   },
   "outputs": [],
   "source": [
    "import pandas as pd\n",
    "import io\n",
    "import csv\n",
    "import docx\n",
    "import datetime as datetime\n",
    "import numpy as np\n",
    "from git import Repo\n",
    "\n",
    "\n",
    "def read_docx_tables(doc, tab_id=None, **kwargs):\n",
    "\n",
    "    def read_docx_tab(tab, **kwargs):\n",
    "        vf = io.StringIO()\n",
    "        writer = csv.writer(vf)\n",
    "        for row in tab.rows:\n",
    "            writer.writerow(cell.text for cell in row.cells)\n",
    "        vf.seek(0)\n",
    "        if len(tab.rows) > 0:\n",
    "            return pd.read_csv(vf, **kwargs)\n",
    "        else:\n",
    "            return pd.DataFrame()\n",
    "\n",
    "    if tab_id is None:\n",
    "        return [read_docx_tab(tab, **kwargs) for tab in doc.tables]\n",
    "    else:\n",
    "        return read_docx_tab(doc.tables[tab_id], **kwargs)\n",
    "\n",
    "\n",
    "def remove_row(table, row):\n",
    "    tbl = table._tbl\n",
    "    tr = row._tr\n",
    "    tbl.remove(tr)\n",
    "\n",
    "\n",
    "def log_table(doc, table_name, comments=[]):\n",
    "\n",
    "    if len(comments) == 0:\n",
    "        table = doc.add_table(0, 0)\n",
    "\n",
    "    else:\n",
    "\n",
    "        table = doc.add_table(1, 3)\n",
    "        table.style = 'ColorfulList-Accent2'\n",
    "\n",
    "        if table_name == \"goals\":\n",
    "            heading_cells = table.rows[0].cells\n",
    "            heading_cells[0].text = \"Project\"\n",
    "            heading_cells[1].text = \"Goals\"\n",
    "            heading_cells[2].text = \"Summary\"\n",
    "\n",
    "        if table_name == \"accomplished\":\n",
    "            heading_cells = table.rows[0].cells\n",
    "            heading_cells[0].text = \"Project\"\n",
    "            heading_cells[1].text = \"Accomplished\"\n",
    "            heading_cells[2].text = \"Notes\"\n",
    "\n",
    "        if table_name == \"pushes\":\n",
    "            heading_cells = table.rows[0].cells\n",
    "            heading_cells[0].text = \"Project\"\n",
    "            heading_cells[1].text = \"Commit\"\n",
    "            heading_cells[2].text = \"Comment\"\n",
    "\n",
    "        if table_name == \"to_do\":\n",
    "            heading_cells = table.rows[0].cells\n",
    "            heading_cells[0].text = \"Project\"\n",
    "            heading_cells[1].text = \"To Do\"\n",
    "            heading_cells[2].text = \"Notes\"\n",
    "\n",
    "        for row in comments:\n",
    "            cells = table.add_row().cells\n",
    "            cells[0].text = row[0]\n",
    "            cells[1].text = row[1]\n",
    "            cells[2].text = row[2]\n",
    "\n",
    "        doc.add_paragraph()\n",
    "\n",
    "\n",
    "def new_entry(doc, notes):\n",
    "    heading = doc.add_paragraph(date)\n",
    "    \n",
    "    notes['goals'] = goals\n",
    "    notes['accomplished'] = accomplished\n",
    "    notes['pushes'] = pushes\n",
    "    notes['to_do'] = to_do\n",
    "\n",
    "    log_table(doc, \"goals\", goals)\n",
    "\n",
    "    log_table(doc, \"accomplished\", accomplished)\n",
    "\n",
    "    log_table(doc, \"pushes\", pushes)\n",
    "\n",
    "    log_table(doc, \"to_do\", to_do)\n",
    "\n",
    "\n",
    "def table_merge(doc, table, comments, name, index):\n",
    "    if len(table) == 0 and len(comments) > 0:\n",
    "        log_table(doc, name, comments)\n",
    "\n",
    "    elif len(table) == 0 and len(comments) == 0:\n",
    "        return\n",
    "\n",
    "    else:\n",
    "        if name == 'goals':\n",
    "            columns = [\"Goals\", \"Summary\"]\n",
    "        elif name == 'accomplished':\n",
    "            columns = [\"Accomplished\", \"Notes\"]\n",
    "        elif name == 'pushes':\n",
    "            columns = [\"Commit\", \"Comment\"]\n",
    "        elif name == 'to_do':\n",
    "            columns = [\"To Do\", \"Notes\"]\n",
    "\n",
    "        update = pd.DataFrame(comments, columns=columns)\n",
    "\n",
    "        new = pd.merge(table.replace(np.NaN, ''), update,\n",
    "                       'outer').drop_duplicates(subset=columns[1],keep='last').values\n",
    "\n",
    "        current_table = doc.tables[index]\n",
    "        current_length = len(current_table.rows) - 2\n",
    "        for i, row in enumerate(new):\n",
    "            if i <= current_length:\n",
    "                current_table.row_cells(i+1)[0].text = new[i][0]\n",
    "                current_table.row_cells(i+1)[1].text = new[i][1]\n",
    "                current_table.row_cells(i+1)[2].text = new[i][2]\n",
    "            elif i > current_length:\n",
    "                cells = current_table.add_row().cells\n",
    "                cells[0].text = new[i][0]\n",
    "                cells[1].text = new[i][1]\n",
    "                cells[2].text = new[i][2]\n",
    "\n",
    "def update_entry(doc, notes):\n",
    "    notes['goals'] = goals\n",
    "    notes['accomplished'] = accomplished\n",
    "    notes['pushes'] = pushes\n",
    "    notes['to_do'] = to_do\n",
    "\n",
    "    for i, table in enumerate(reversed(doc.tables)):\n",
    "        ind = len(doc.tables)-1-i\n",
    "        table = read_docx_tables(doc, ind)\n",
    "        if len(table) > 0:\n",
    "            table_title = table.columns[1]\n",
    "        else:\n",
    "            table_title = \"NA\"\n",
    "        if table_title == 'Goals':\n",
    "            goal_ind = ind\n",
    "            goal_tab = table\n",
    "            table_merge(doc, goal_tab, goals, 'goals', goal_ind)\n",
    "            break\n",
    "\n",
    "    for i, table in enumerate(doc.tables[goal_ind:]):\n",
    "        i = goal_ind+i\n",
    "        table = read_docx_tables(doc, i)\n",
    "\n",
    "        if len(table) > 0:\n",
    "            table_title = table.columns[1]\n",
    "        else:\n",
    "            table_title = \"NA\"\n",
    "\n",
    "        if table_title == 'Accomplished':\n",
    "            acc_ind = i\n",
    "            acc_tab = table\n",
    "            table_merge(doc, acc_tab, accomplished, 'accomplished', acc_ind)\n",
    "\n",
    "        if table_title == 'Commit':\n",
    "            push_ind = i\n",
    "            push_tab = table\n",
    "            table_merge(doc, push_tab, pushes, 'pushes', push_ind)\n",
    "\n",
    "        if table_title == 'To Do':\n",
    "            td_ind = i\n",
    "            td_tab = table\n",
    "            table_merge(doc, td_tab, to_do, 'to_do', td_ind)\n",
    "\n",
    "\n",
    "def git_push(Project, PATH_OF_GIT_REPO, COMMIT_MESSAGE):\n",
    "    try:\n",
    "        repo = Repo(PATH_OF_GIT_REPO)\n",
    "        repo.git.add(update=True)\n",
    "        repo.index.commit(COMMIT_MESSAGE)\n",
    "        origin = repo.remote(name='origin')\n",
    "        origin.push()\n",
    "        sha = repo.head.object.hexsha\n",
    "        remote_url = repo.remotes[0].config_reader.get(\"url\")\n",
    "        repo_url = remote_url.split(\":\", 1)[1].split(\".git\", 1)[0]\n",
    "        repo_url = \"https://github.com/\"+repo_url+\"/commit/\"+sha\n",
    "\n",
    "        return [[Project, repo_url, COMMIT_MESSAGE]]\n",
    "\n",
    "    except:\n",
    "        print('Some error occured while pushing the code')\n",
    "\n",
    "\n",
    "def validate(date_text):\n",
    "    try:\n",
    "        datetime.datetime.strptime(date_text, '%Y-%m-%d')\n",
    "        return True\n",
    "    except ValueError:\n",
    "        return False"
   ]
  },
  {
   "cell_type": "code",
   "execution_count": 10,
   "metadata": {
    "ExecuteTime": {
     "end_time": "2020-05-31T07:12:50.093075Z",
     "start_time": "2020-05-31T07:12:38.982498Z"
    }
   },
   "outputs": [
    {
     "name": "stdout",
     "output_type": "stream",
     "text": [
      "Commit MessageTesting Raw Input for commit message\n"
     ]
    }
   ],
   "source": [
    "PATH_OF_GIT_REPO = r'/Users/emaad/Desktop/WordLoggingScript/.git'  # make sure .git folder is properly configured\n",
    "COMMIT_MESSAGE = input(\"Commit Message\");\n",
    "\n",
    "date = datetime.datetime.now().strftime('%Y-%m-%d')\n",
    "\n",
    "goals = [\n",
    "    [\"Logging Notebook\",\"Update Logging Script with Git and Code Output\", \"\"],\n",
    "    [\"Logging Notebook\",\"Include timestamp and project title boxes in logging\", \"\"],\n",
    "    [\"other\",\"Read Papers\", \"\"]\n",
    "]\n",
    "accomplished = [\n",
    "]\n",
    "to_do = [[\"Cell Segmentation\",\"Start segmentation\",\"\"]]\n",
    "pushes = git_push(\"Logging Notebook\",PATH_OF_GIT_REPO,COMMIT_MWA)"
   ]
  },
  {
   "cell_type": "code",
   "execution_count": 11,
   "metadata": {
    "ExecuteTime": {
     "end_time": "2020-05-31T07:12:50.199064Z",
     "start_time": "2020-05-31T07:12:50.096519Z"
    }
   },
   "outputs": [
    {
     "ename": "ValueError",
     "evalue": "2 columns passed, passed data had 3 columns",
     "output_type": "error",
     "traceback": [
      "\u001b[0;31m---------------------------------------------------------------------------\u001b[0m",
      "\u001b[0;31mAssertionError\u001b[0m                            Traceback (most recent call last)",
      "\u001b[0;32m/opt/anaconda3/lib/python3.7/site-packages/pandas/core/internals/construction.py\u001b[0m in \u001b[0;36m_list_to_arrays\u001b[0;34m(data, columns, coerce_float, dtype)\u001b[0m\n\u001b[1;32m    496\u001b[0m         result = _convert_object_array(\n\u001b[0;32m--> 497\u001b[0;31m             \u001b[0mcontent\u001b[0m\u001b[0;34m,\u001b[0m \u001b[0mcolumns\u001b[0m\u001b[0;34m,\u001b[0m \u001b[0mdtype\u001b[0m\u001b[0;34m=\u001b[0m\u001b[0mdtype\u001b[0m\u001b[0;34m,\u001b[0m \u001b[0mcoerce_float\u001b[0m\u001b[0;34m=\u001b[0m\u001b[0mcoerce_float\u001b[0m\u001b[0;34m\u001b[0m\u001b[0;34m\u001b[0m\u001b[0m\n\u001b[0m\u001b[1;32m    498\u001b[0m         )\n",
      "\u001b[0;32m/opt/anaconda3/lib/python3.7/site-packages/pandas/core/internals/construction.py\u001b[0m in \u001b[0;36m_convert_object_array\u001b[0;34m(content, columns, coerce_float, dtype)\u001b[0m\n\u001b[1;32m    580\u001b[0m             raise AssertionError(\n\u001b[0;32m--> 581\u001b[0;31m                 \u001b[0;34mf\"{len(columns)} columns passed, passed data had \"\u001b[0m\u001b[0;34m\u001b[0m\u001b[0;34m\u001b[0m\u001b[0m\n\u001b[0m\u001b[1;32m    582\u001b[0m                 \u001b[0;34mf\"{len(content)} columns\"\u001b[0m\u001b[0;34m\u001b[0m\u001b[0;34m\u001b[0m\u001b[0m\n",
      "\u001b[0;31mAssertionError\u001b[0m: 2 columns passed, passed data had 3 columns",
      "\nThe above exception was the direct cause of the following exception:\n",
      "\u001b[0;31mValueError\u001b[0m                                Traceback (most recent call last)",
      "\u001b[0;32m<ipython-input-11-556c8c7e3764>\u001b[0m in \u001b[0;36m<module>\u001b[0;34m\u001b[0m\n\u001b[1;32m     11\u001b[0m     \u001b[0mprint\u001b[0m\u001b[0;34m(\u001b[0m\u001b[0;34m\"New Entry Added\"\u001b[0m\u001b[0;34m)\u001b[0m\u001b[0;34m\u001b[0m\u001b[0;34m\u001b[0m\u001b[0m\n\u001b[1;32m     12\u001b[0m \u001b[0;32mif\u001b[0m \u001b[0mlast_date\u001b[0m \u001b[0;34m==\u001b[0m \u001b[0mdate\u001b[0m\u001b[0;34m:\u001b[0m\u001b[0;34m\u001b[0m\u001b[0;34m\u001b[0m\u001b[0m\n\u001b[0;32m---> 13\u001b[0;31m     \u001b[0mupdate_entry\u001b[0m\u001b[0;34m(\u001b[0m\u001b[0mtest\u001b[0m\u001b[0;34m,\u001b[0m \u001b[0mnotes\u001b[0m\u001b[0;34m)\u001b[0m\u001b[0;34m\u001b[0m\u001b[0;34m\u001b[0m\u001b[0m\n\u001b[0m\u001b[1;32m     14\u001b[0m     \u001b[0mtest\u001b[0m\u001b[0;34m.\u001b[0m\u001b[0msave\u001b[0m\u001b[0;34m(\u001b[0m\u001b[0;34m'log_test.docx'\u001b[0m\u001b[0;34m)\u001b[0m\u001b[0;34m\u001b[0m\u001b[0;34m\u001b[0m\u001b[0m\n\u001b[1;32m     15\u001b[0m     \u001b[0mprint\u001b[0m\u001b[0;34m(\u001b[0m\u001b[0;34m\"Updated Entry\"\u001b[0m\u001b[0;34m)\u001b[0m\u001b[0;34m\u001b[0m\u001b[0;34m\u001b[0m\u001b[0m\n",
      "\u001b[0;32m<ipython-input-1-55c7a2ad5521>\u001b[0m in \u001b[0;36mupdate_entry\u001b[0;34m(doc, notes)\u001b[0m\n\u001b[1;32m    144\u001b[0m             \u001b[0mgoal_ind\u001b[0m \u001b[0;34m=\u001b[0m \u001b[0mind\u001b[0m\u001b[0;34m\u001b[0m\u001b[0;34m\u001b[0m\u001b[0m\n\u001b[1;32m    145\u001b[0m             \u001b[0mgoal_tab\u001b[0m \u001b[0;34m=\u001b[0m \u001b[0mtable\u001b[0m\u001b[0;34m\u001b[0m\u001b[0;34m\u001b[0m\u001b[0m\n\u001b[0;32m--> 146\u001b[0;31m             \u001b[0mtable_merge\u001b[0m\u001b[0;34m(\u001b[0m\u001b[0mdoc\u001b[0m\u001b[0;34m,\u001b[0m \u001b[0mgoal_tab\u001b[0m\u001b[0;34m,\u001b[0m \u001b[0mgoals\u001b[0m\u001b[0;34m,\u001b[0m \u001b[0;34m'goals'\u001b[0m\u001b[0;34m,\u001b[0m \u001b[0mgoal_ind\u001b[0m\u001b[0;34m)\u001b[0m\u001b[0;34m\u001b[0m\u001b[0;34m\u001b[0m\u001b[0m\n\u001b[0m\u001b[1;32m    147\u001b[0m             \u001b[0;32mbreak\u001b[0m\u001b[0;34m\u001b[0m\u001b[0;34m\u001b[0m\u001b[0m\n\u001b[1;32m    148\u001b[0m \u001b[0;34m\u001b[0m\u001b[0m\n",
      "\u001b[0;32m<ipython-input-1-55c7a2ad5521>\u001b[0m in \u001b[0;36mtable_merge\u001b[0;34m(doc, table, comments, name, index)\u001b[0m\n\u001b[1;32m    110\u001b[0m             \u001b[0mcolumns\u001b[0m \u001b[0;34m=\u001b[0m \u001b[0;34m[\u001b[0m\u001b[0;34m\"To Do\"\u001b[0m\u001b[0;34m,\u001b[0m \u001b[0;34m\"Notes\"\u001b[0m\u001b[0;34m]\u001b[0m\u001b[0;34m\u001b[0m\u001b[0;34m\u001b[0m\u001b[0m\n\u001b[1;32m    111\u001b[0m \u001b[0;34m\u001b[0m\u001b[0m\n\u001b[0;32m--> 112\u001b[0;31m         \u001b[0mupdate\u001b[0m \u001b[0;34m=\u001b[0m \u001b[0mpd\u001b[0m\u001b[0;34m.\u001b[0m\u001b[0mDataFrame\u001b[0m\u001b[0;34m(\u001b[0m\u001b[0mcomments\u001b[0m\u001b[0;34m,\u001b[0m \u001b[0mcolumns\u001b[0m\u001b[0;34m=\u001b[0m\u001b[0mcolumns\u001b[0m\u001b[0;34m)\u001b[0m\u001b[0;34m\u001b[0m\u001b[0;34m\u001b[0m\u001b[0m\n\u001b[0m\u001b[1;32m    113\u001b[0m \u001b[0;34m\u001b[0m\u001b[0m\n\u001b[1;32m    114\u001b[0m         new = pd.merge(table.replace(np.NaN, ''), update,\n",
      "\u001b[0;32m/opt/anaconda3/lib/python3.7/site-packages/pandas/core/frame.py\u001b[0m in \u001b[0;36m__init__\u001b[0;34m(self, data, index, columns, dtype, copy)\u001b[0m\n\u001b[1;32m    472\u001b[0m                     \u001b[0;32mif\u001b[0m \u001b[0mis_named_tuple\u001b[0m\u001b[0;34m(\u001b[0m\u001b[0mdata\u001b[0m\u001b[0;34m[\u001b[0m\u001b[0;36m0\u001b[0m\u001b[0;34m]\u001b[0m\u001b[0;34m)\u001b[0m \u001b[0;32mand\u001b[0m \u001b[0mcolumns\u001b[0m \u001b[0;32mis\u001b[0m \u001b[0;32mNone\u001b[0m\u001b[0;34m:\u001b[0m\u001b[0;34m\u001b[0m\u001b[0;34m\u001b[0m\u001b[0m\n\u001b[1;32m    473\u001b[0m                         \u001b[0mcolumns\u001b[0m \u001b[0;34m=\u001b[0m \u001b[0mdata\u001b[0m\u001b[0;34m[\u001b[0m\u001b[0;36m0\u001b[0m\u001b[0;34m]\u001b[0m\u001b[0;34m.\u001b[0m\u001b[0m_fields\u001b[0m\u001b[0;34m\u001b[0m\u001b[0;34m\u001b[0m\u001b[0m\n\u001b[0;32m--> 474\u001b[0;31m                     \u001b[0marrays\u001b[0m\u001b[0;34m,\u001b[0m \u001b[0mcolumns\u001b[0m \u001b[0;34m=\u001b[0m \u001b[0mto_arrays\u001b[0m\u001b[0;34m(\u001b[0m\u001b[0mdata\u001b[0m\u001b[0;34m,\u001b[0m \u001b[0mcolumns\u001b[0m\u001b[0;34m,\u001b[0m \u001b[0mdtype\u001b[0m\u001b[0;34m=\u001b[0m\u001b[0mdtype\u001b[0m\u001b[0;34m)\u001b[0m\u001b[0;34m\u001b[0m\u001b[0;34m\u001b[0m\u001b[0m\n\u001b[0m\u001b[1;32m    475\u001b[0m                     \u001b[0mcolumns\u001b[0m \u001b[0;34m=\u001b[0m \u001b[0mensure_index\u001b[0m\u001b[0;34m(\u001b[0m\u001b[0mcolumns\u001b[0m\u001b[0;34m)\u001b[0m\u001b[0;34m\u001b[0m\u001b[0;34m\u001b[0m\u001b[0m\n\u001b[1;32m    476\u001b[0m \u001b[0;34m\u001b[0m\u001b[0m\n",
      "\u001b[0;32m/opt/anaconda3/lib/python3.7/site-packages/pandas/core/internals/construction.py\u001b[0m in \u001b[0;36mto_arrays\u001b[0;34m(data, columns, coerce_float, dtype)\u001b[0m\n\u001b[1;32m    459\u001b[0m         \u001b[0;32mreturn\u001b[0m \u001b[0;34m[\u001b[0m\u001b[0;34m]\u001b[0m\u001b[0;34m,\u001b[0m \u001b[0;34m[\u001b[0m\u001b[0;34m]\u001b[0m  \u001b[0;31m# columns if columns is not None else []\u001b[0m\u001b[0;34m\u001b[0m\u001b[0;34m\u001b[0m\u001b[0m\n\u001b[1;32m    460\u001b[0m     \u001b[0;32mif\u001b[0m \u001b[0misinstance\u001b[0m\u001b[0;34m(\u001b[0m\u001b[0mdata\u001b[0m\u001b[0;34m[\u001b[0m\u001b[0;36m0\u001b[0m\u001b[0;34m]\u001b[0m\u001b[0;34m,\u001b[0m \u001b[0;34m(\u001b[0m\u001b[0mlist\u001b[0m\u001b[0;34m,\u001b[0m \u001b[0mtuple\u001b[0m\u001b[0;34m)\u001b[0m\u001b[0;34m)\u001b[0m\u001b[0;34m:\u001b[0m\u001b[0;34m\u001b[0m\u001b[0;34m\u001b[0m\u001b[0m\n\u001b[0;32m--> 461\u001b[0;31m         \u001b[0;32mreturn\u001b[0m \u001b[0m_list_to_arrays\u001b[0m\u001b[0;34m(\u001b[0m\u001b[0mdata\u001b[0m\u001b[0;34m,\u001b[0m \u001b[0mcolumns\u001b[0m\u001b[0;34m,\u001b[0m \u001b[0mcoerce_float\u001b[0m\u001b[0;34m=\u001b[0m\u001b[0mcoerce_float\u001b[0m\u001b[0;34m,\u001b[0m \u001b[0mdtype\u001b[0m\u001b[0;34m=\u001b[0m\u001b[0mdtype\u001b[0m\u001b[0;34m)\u001b[0m\u001b[0;34m\u001b[0m\u001b[0;34m\u001b[0m\u001b[0m\n\u001b[0m\u001b[1;32m    462\u001b[0m     \u001b[0;32melif\u001b[0m \u001b[0misinstance\u001b[0m\u001b[0;34m(\u001b[0m\u001b[0mdata\u001b[0m\u001b[0;34m[\u001b[0m\u001b[0;36m0\u001b[0m\u001b[0;34m]\u001b[0m\u001b[0;34m,\u001b[0m \u001b[0mabc\u001b[0m\u001b[0;34m.\u001b[0m\u001b[0mMapping\u001b[0m\u001b[0;34m)\u001b[0m\u001b[0;34m:\u001b[0m\u001b[0;34m\u001b[0m\u001b[0;34m\u001b[0m\u001b[0m\n\u001b[1;32m    463\u001b[0m         return _list_of_dict_to_arrays(\n",
      "\u001b[0;32m/opt/anaconda3/lib/python3.7/site-packages/pandas/core/internals/construction.py\u001b[0m in \u001b[0;36m_list_to_arrays\u001b[0;34m(data, columns, coerce_float, dtype)\u001b[0m\n\u001b[1;32m    498\u001b[0m         )\n\u001b[1;32m    499\u001b[0m     \u001b[0;32mexcept\u001b[0m \u001b[0mAssertionError\u001b[0m \u001b[0;32mas\u001b[0m \u001b[0me\u001b[0m\u001b[0;34m:\u001b[0m\u001b[0;34m\u001b[0m\u001b[0;34m\u001b[0m\u001b[0m\n\u001b[0;32m--> 500\u001b[0;31m         \u001b[0;32mraise\u001b[0m \u001b[0mValueError\u001b[0m\u001b[0;34m(\u001b[0m\u001b[0me\u001b[0m\u001b[0;34m)\u001b[0m \u001b[0;32mfrom\u001b[0m \u001b[0me\u001b[0m\u001b[0;34m\u001b[0m\u001b[0;34m\u001b[0m\u001b[0m\n\u001b[0m\u001b[1;32m    501\u001b[0m     \u001b[0;32mreturn\u001b[0m \u001b[0mresult\u001b[0m\u001b[0;34m\u001b[0m\u001b[0;34m\u001b[0m\u001b[0m\n\u001b[1;32m    502\u001b[0m \u001b[0;34m\u001b[0m\u001b[0m\n",
      "\u001b[0;31mValueError\u001b[0m: 2 columns passed, passed data had 3 columns"
     ]
    }
   ],
   "source": [
    "test = docx.Document(\"./log_test.docx\")\n",
    "notes = {'goals':goals, 'accomplished': accomplished,'pushes': pushes, 'to_do': to_do}\n",
    "for i, text in enumerate(reversed(test.paragraphs)):\n",
    "    if validate(text.text) == True:\n",
    "        last_date = text.text\n",
    "        index=len(test.paragraphs)-1-i\n",
    "        break\n",
    "if last_date != date:\n",
    "    new_entry(test, notes)\n",
    "    test.save('log_test.docx')\n",
    "    print(\"New Entry Added\")\n",
    "if last_date == date:\n",
    "    update_entry(test, notes)\n",
    "    test.save('log_test.docx')\n",
    "    print(\"Updated Entry\")"
   ]
  },
  {
   "cell_type": "code",
   "execution_count": 5,
   "metadata": {
    "ExecuteTime": {
     "end_time": "2020-05-31T07:10:38.530649Z",
     "start_time": "2020-05-31T07:10:38.506428Z"
    }
   },
   "outputs": [
    {
     "data": {
      "text/plain": [
       "'2020-05-31'"
      ]
     },
     "execution_count": 5,
     "metadata": {},
     "output_type": "execute_result"
    }
   ],
   "source": [
    "last_date"
   ]
  },
  {
   "cell_type": "code",
   "execution_count": 9,
   "metadata": {
    "ExecuteTime": {
     "end_time": "2020-05-31T07:12:21.434089Z",
     "start_time": "2020-05-31T07:12:19.832427Z"
    }
   },
   "outputs": [
    {
     "name": "stdout",
     "output_type": "stream",
     "text": [
      "Commit Messagehello\n"
     ]
    },
    {
     "data": {
      "text/plain": [
       "'hello'"
      ]
     },
     "execution_count": 9,
     "metadata": {},
     "output_type": "execute_result"
    }
   ],
   "source": []
  },
  {
   "cell_type": "code",
   "execution_count": null,
   "metadata": {},
   "outputs": [],
   "source": []
  }
 ],
 "metadata": {
  "kernelspec": {
   "display_name": "Python 3",
   "language": "python",
   "name": "python3"
  },
  "language_info": {
   "codemirror_mode": {
    "name": "ipython",
    "version": 3
   },
   "file_extension": ".py",
   "mimetype": "text/x-python",
   "name": "python",
   "nbconvert_exporter": "python",
   "pygments_lexer": "ipython3",
   "version": "3.7.6"
  }
 },
 "nbformat": 4,
 "nbformat_minor": 4
}
