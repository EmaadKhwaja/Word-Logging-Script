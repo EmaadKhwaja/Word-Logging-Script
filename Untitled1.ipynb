{
 "cells": [
  {
   "cell_type": "code",
   "execution_count": null,
   "metadata": {
    "ExecuteTime": {
     "start_time": "2020-05-31T09:12:55.456Z"
    }
   },
   "outputs": [],
   "source": [
    "import Update_log2"
   ]
  },
  {
   "cell_type": "code",
   "execution_count": null,
   "metadata": {
    "ExecuteTime": {
     "start_time": "2020-05-31T09:12:55.675Z"
    }
   },
   "outputs": [],
   "source": [
    "PATH_OF_GIT_REPO = r'/Users/emaad/Desktop/WordLoggingScript/.git'  # make sure .git folder is properly configured\n",
    "doc_path=\"/Users/emaad/Desktop/WordLoggingScript/log_test.docx\"\n",
    "goals = [\n",
    "    [\"Logging Notebook\",\"Update Logging Script with Git and Code Output\", \"\"],\n",
    "    [\"Logging Notebook\",\"Include timestamp and project title boxes in logging\", \"\"],\n",
    "    [\"other\",\"Read Papers\", \"\"]\n",
    "]\n",
    "accomplished = [\n",
    "]\n",
    "\n",
    "to_do = [[\"Cell Segmentation\",\"Start segmentation\",\"\"]]\n",
    "\n",
    "project = \"Logging Notebook\"\n",
    "\n",
    "notes = {'goals':goals, 'accomplished': accomplished,'to_do': to_do, 'project':project}\n"
   ]
  },
  {
   "cell_type": "code",
   "execution_count": null,
   "metadata": {
    "ExecuteTime": {
     "end_time": "2020-05-31T09:12:39.581431Z",
     "start_time": "2020-05-31T09:12:25.763210Z"
    }
   },
   "outputs": [],
   "source": [
    "Update_log2.push_update(doc_path,PATH_OF_GIT_REPO, notes)"
   ]
  },
  {
   "cell_type": "code",
   "execution_count": null,
   "metadata": {
    "ExecuteTime": {
     "end_time": "2020-05-31T08:52:17.238571Z",
     "start_time": "2020-05-31T08:52:17.227769Z"
    }
   },
   "outputs": [],
   "source": [
    "notes"
   ]
  },
  {
   "cell_type": "code",
   "execution_count": null,
   "metadata": {
    "ExecuteTime": {
     "end_time": "2020-05-31T09:12:02.272286Z",
     "start_time": "2020-05-31T09:12:02.232630Z"
    }
   },
   "outputs": [],
   "source": [
    "from git import Repo\n",
    "repo = Repo(PATH_OF_GIT_REPO)\n",
    "repo.git.add('-A')"
   ]
  },
  {
   "cell_type": "code",
   "execution_count": null,
   "metadata": {},
   "outputs": [],
   "source": []
  }
 ],
 "metadata": {
  "kernelspec": {
   "display_name": "Python 3",
   "language": "python",
   "name": "python3"
  },
  "language_info": {
   "codemirror_mode": {
    "name": "ipython",
    "version": 3
   },
   "file_extension": ".py",
   "mimetype": "text/x-python",
   "name": "python",
   "nbconvert_exporter": "python",
   "pygments_lexer": "ipython3",
   "version": "3.7.6"
  }
 },
 "nbformat": 4,
 "nbformat_minor": 4
}
